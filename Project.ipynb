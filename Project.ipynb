{
 "cells": [
  {
   "cell_type": "code",
   "execution_count": 125,
   "metadata": {},
   "outputs": [],
   "source": [
    "library(tidyverse)\n",
    "library(faraway)\n",
    "library(leaps)"
   ]
  },
  {
   "cell_type": "code",
   "execution_count": 126,
   "metadata": {},
   "outputs": [
    {
     "name": "stderr",
     "output_type": "stream",
     "text": [
      "Parsed with column specification:\n",
      "cols(\n",
      "  Year = col_double(),\n",
      "  Manuf = col_double(),\n",
      "  HiTec = col_double(),\n",
      "  Utils = col_double(),\n",
      "  RF = col_double()\n",
      ")\n",
      "Parsed with column specification:\n",
      "cols(\n",
      "  Year = col_double(),\n",
      "  `Mkt-RF` = col_double(),\n",
      "  SMB = col_double(),\n",
      "  HML = col_double(),\n",
      "  RMW = col_double(),\n",
      "  CMA = col_double()\n",
      ")\n"
     ]
    }
   ],
   "source": [
    "industry_returns=read_csv(\"Industry_Returns.csv\")\n",
    "factor_returns=read_csv(\"5_Factor_Returns.csv\")"
   ]
  },
  {
   "cell_type": "code",
   "execution_count": 127,
   "metadata": {},
   "outputs": [
    {
     "data": {
      "text/html": [
       "<table>\n",
       "<thead><tr><th scope=col>Year</th><th scope=col>Manuf</th><th scope=col>HiTec</th><th scope=col>Utils</th><th scope=col>RF</th></tr></thead>\n",
       "<tbody>\n",
       "\t<tr><td>198001</td><td>  7.02</td><td>  7.37</td><td> 1.60 </td><td>0.80  </td></tr>\n",
       "\t<tr><td>198002</td><td> -2.65</td><td> -3.56</td><td>-3.36 </td><td>0.89  </td></tr>\n",
       "\t<tr><td>198003</td><td>-11.68</td><td>-12.67</td><td>-6.67 </td><td>1.21  </td></tr>\n",
       "\t<tr><td>198004</td><td>  3.25</td><td>  0.72</td><td>11.96 </td><td>1.26  </td></tr>\n",
       "\t<tr><td>198005</td><td>  6.18</td><td>  4.82</td><td> 4.61 </td><td>0.81  </td></tr>\n",
       "\t<tr><td>198006</td><td>  2.41</td><td>  3.03</td><td> 4.54 </td><td>0.61  </td></tr>\n",
       "</tbody>\n",
       "</table>\n"
      ],
      "text/latex": [
       "\\begin{tabular}{r|lllll}\n",
       " Year & Manuf & HiTec & Utils & RF\\\\\n",
       "\\hline\n",
       "\t 198001 &   7.02 &   7.37 &  1.60  & 0.80  \\\\\n",
       "\t 198002 &  -2.65 &  -3.56 & -3.36  & 0.89  \\\\\n",
       "\t 198003 & -11.68 & -12.67 & -6.67  & 1.21  \\\\\n",
       "\t 198004 &   3.25 &   0.72 & 11.96  & 1.26  \\\\\n",
       "\t 198005 &   6.18 &   4.82 &  4.61  & 0.81  \\\\\n",
       "\t 198006 &   2.41 &   3.03 &  4.54  & 0.61  \\\\\n",
       "\\end{tabular}\n"
      ],
      "text/markdown": [
       "\n",
       "| Year | Manuf | HiTec | Utils | RF |\n",
       "|---|---|---|---|---|\n",
       "| 198001 |   7.02 |   7.37 |  1.60  | 0.80   |\n",
       "| 198002 |  -2.65 |  -3.56 | -3.36  | 0.89   |\n",
       "| 198003 | -11.68 | -12.67 | -6.67  | 1.21   |\n",
       "| 198004 |   3.25 |   0.72 | 11.96  | 1.26   |\n",
       "| 198005 |   6.18 |   4.82 |  4.61  | 0.81   |\n",
       "| 198006 |   2.41 |   3.03 |  4.54  | 0.61   |\n",
       "\n"
      ],
      "text/plain": [
       "  Year   Manuf  HiTec  Utils RF  \n",
       "1 198001   7.02   7.37  1.60 0.80\n",
       "2 198002  -2.65  -3.56 -3.36 0.89\n",
       "3 198003 -11.68 -12.67 -6.67 1.21\n",
       "4 198004   3.25   0.72 11.96 1.26\n",
       "5 198005   6.18   4.82  4.61 0.81\n",
       "6 198006   2.41   3.03  4.54 0.61"
      ]
     },
     "metadata": {},
     "output_type": "display_data"
    },
    {
     "data": {
      "text/html": [
       "<table>\n",
       "<thead><tr><th scope=col>Year</th><th scope=col>Mkt-RF</th><th scope=col>SMB</th><th scope=col>HML</th><th scope=col>RMW</th><th scope=col>CMA</th></tr></thead>\n",
       "<tbody>\n",
       "\t<tr><td>196307</td><td>-0.39 </td><td>-0.47 </td><td>-0.83 </td><td> 0.66 </td><td>-1.15 </td></tr>\n",
       "\t<tr><td>196308</td><td> 5.07 </td><td>-0.79 </td><td> 1.67 </td><td> 0.39 </td><td>-0.40 </td></tr>\n",
       "\t<tr><td>196309</td><td>-1.57 </td><td>-0.48 </td><td> 0.18 </td><td>-0.76 </td><td> 0.24 </td></tr>\n",
       "\t<tr><td>196310</td><td> 2.53 </td><td>-1.29 </td><td>-0.10 </td><td> 2.75 </td><td>-2.24 </td></tr>\n",
       "\t<tr><td>196311</td><td>-0.85 </td><td>-0.84 </td><td> 1.71 </td><td>-0.45 </td><td> 2.22 </td></tr>\n",
       "\t<tr><td>196312</td><td> 1.83 </td><td>-1.89 </td><td>-0.12 </td><td> 0.08 </td><td>-0.30 </td></tr>\n",
       "</tbody>\n",
       "</table>\n"
      ],
      "text/latex": [
       "\\begin{tabular}{r|llllll}\n",
       " Year & Mkt-RF & SMB & HML & RMW & CMA\\\\\n",
       "\\hline\n",
       "\t 196307 & -0.39  & -0.47  & -0.83  &  0.66  & -1.15 \\\\\n",
       "\t 196308 &  5.07  & -0.79  &  1.67  &  0.39  & -0.40 \\\\\n",
       "\t 196309 & -1.57  & -0.48  &  0.18  & -0.76  &  0.24 \\\\\n",
       "\t 196310 &  2.53  & -1.29  & -0.10  &  2.75  & -2.24 \\\\\n",
       "\t 196311 & -0.85  & -0.84  &  1.71  & -0.45  &  2.22 \\\\\n",
       "\t 196312 &  1.83  & -1.89  & -0.12  &  0.08  & -0.30 \\\\\n",
       "\\end{tabular}\n"
      ],
      "text/markdown": [
       "\n",
       "| Year | Mkt-RF | SMB | HML | RMW | CMA |\n",
       "|---|---|---|---|---|---|\n",
       "| 196307 | -0.39  | -0.47  | -0.83  |  0.66  | -1.15  |\n",
       "| 196308 |  5.07  | -0.79  |  1.67  |  0.39  | -0.40  |\n",
       "| 196309 | -1.57  | -0.48  |  0.18  | -0.76  |  0.24  |\n",
       "| 196310 |  2.53  | -1.29  | -0.10  |  2.75  | -2.24  |\n",
       "| 196311 | -0.85  | -0.84  |  1.71  | -0.45  |  2.22  |\n",
       "| 196312 |  1.83  | -1.89  | -0.12  |  0.08  | -0.30  |\n",
       "\n"
      ],
      "text/plain": [
       "  Year   Mkt-RF SMB   HML   RMW   CMA  \n",
       "1 196307 -0.39  -0.47 -0.83  0.66 -1.15\n",
       "2 196308  5.07  -0.79  1.67  0.39 -0.40\n",
       "3 196309 -1.57  -0.48  0.18 -0.76  0.24\n",
       "4 196310  2.53  -1.29 -0.10  2.75 -2.24\n",
       "5 196311 -0.85  -0.84  1.71 -0.45  2.22\n",
       "6 196312  1.83  -1.89 -0.12  0.08 -0.30"
      ]
     },
     "metadata": {},
     "output_type": "display_data"
    }
   ],
   "source": [
    "head(industry_returns)\n",
    "head(factor_returns)"
   ]
  },
  {
   "cell_type": "code",
   "execution_count": 128,
   "metadata": {},
   "outputs": [],
   "source": [
    "industry_returns = industry_returns %>% mutate(`Manuf-RF` = \n",
    "    Manuf-RF, `HiTec-RF` = HiTec-RF, `Utils-RF` = Utils-RF)\n",
    "                                                          "
   ]
  },
  {
   "cell_type": "code",
   "execution_count": 129,
   "metadata": {},
   "outputs": [],
   "source": [
    "aggregate = inner_join(factor_returns, industry_returns, by=\"Year\")\n",
    "aggregate = aggregate %>% na.omit()"
   ]
  },
  {
   "cell_type": "code",
   "execution_count": 130,
   "metadata": {},
   "outputs": [],
   "source": [
    "#Manufacturing Industry Analysis\n",
    "\n",
    "lmod_Manuf=lm(`Manuf-RF` ~ `Mkt-RF`+`SMB`+`HML`, data = aggregate)\n",
    "#summary(lmod_Manuf)\n",
    "#par(mfrow = c(2,2)); plot(lmod_Manuf)"
   ]
  },
  {
   "cell_type": "code",
   "execution_count": 131,
   "metadata": {},
   "outputs": [
    {
     "data": {
      "text/plain": [
       "\n",
       "Call:\n",
       "lm(formula = `Manuf-RF` ~ `Mkt-RF` + HML, data = aggregate)\n",
       "\n",
       "Residuals:\n",
       "    Min      1Q  Median      3Q     Max \n",
       "-5.7831 -1.0759  0.0351  1.0298  6.1166 \n",
       "\n",
       "Coefficients:\n",
       "             Estimate Std. Error t value Pr(>|t|)    \n",
       "(Intercept) -0.003191   0.085478  -0.037     0.97    \n",
       "`Mkt-RF`     1.065819   0.019797  53.837  < 2e-16 ***\n",
       "HML          0.198946   0.029616   6.718 5.56e-11 ***\n",
       "---\n",
       "Signif. codes:  0 '***' 0.001 '**' 0.01 '*' 0.05 '.' 0.1 ' ' 1\n",
       "\n",
       "Residual standard error: 1.786 on 453 degrees of freedom\n",
       "Multiple R-squared:  0.8677,\tAdjusted R-squared:  0.8672 \n",
       "F-statistic:  1486 on 2 and 453 DF,  p-value: < 2.2e-16\n"
      ]
     },
     "metadata": {},
     "output_type": "display_data"
    }
   ],
   "source": [
    "#Model Selection through Backwards Elimination (15% level)\n",
    "\n",
    "lmod_Manuf = update(lmod_Manuf, .~.-SMB)\n",
    "summary(lmod_Manuf)"
   ]
  },
  {
   "cell_type": "markdown",
   "metadata": {},
   "source": [
    "The preffered model by Backwards Elimination is:\n",
    "\n",
    "l2_Manuf = lm(`Manuf-RF` ~ `Mkt-RF`+`HML`, data = aggregate)"
   ]
  },
  {
   "cell_type": "code",
   "execution_count": 132,
   "metadata": {},
   "outputs": [
    {
     "data": {
      "text/html": [
       "<table>\n",
       "<thead><tr><th scope=col>(Intercept)</th><th scope=col>`Mkt-RF`</th><th scope=col>SMB</th><th scope=col>HML</th></tr></thead>\n",
       "<tbody>\n",
       "\t<tr><td>TRUE </td><td>TRUE </td><td>FALSE</td><td>FALSE</td></tr>\n",
       "\t<tr><td>TRUE </td><td>TRUE </td><td>FALSE</td><td> TRUE</td></tr>\n",
       "\t<tr><td>TRUE </td><td>TRUE </td><td> TRUE</td><td> TRUE</td></tr>\n",
       "</tbody>\n",
       "</table>\n"
      ],
      "text/latex": [
       "\\begin{tabular}{r|llll}\n",
       " (Intercept) & `Mkt-RF` & SMB & HML\\\\\n",
       "\\hline\n",
       "\t TRUE  & TRUE  & FALSE & FALSE\\\\\n",
       "\t TRUE  & TRUE  & FALSE &  TRUE\\\\\n",
       "\t TRUE  & TRUE  &  TRUE &  TRUE\\\\\n",
       "\\end{tabular}\n"
      ],
      "text/markdown": [
       "\n",
       "| (Intercept) | `Mkt-RF` | SMB | HML |\n",
       "|---|---|---|---|\n",
       "| TRUE  | TRUE  | FALSE | FALSE |\n",
       "| TRUE  | TRUE  | FALSE |  TRUE |\n",
       "| TRUE  | TRUE  |  TRUE |  TRUE |\n",
       "\n"
      ],
      "text/plain": [
       "  (Intercept) `Mkt-RF` SMB   HML  \n",
       "1 TRUE        TRUE     FALSE FALSE\n",
       "2 TRUE        TRUE     FALSE  TRUE\n",
       "3 TRUE        TRUE      TRUE  TRUE"
      ]
     },
     "metadata": {},
     "output_type": "display_data"
    }
   ],
   "source": [
    "#Model Selection through Minimized AIC\n",
    "\n",
    "b_Manuf = regsubsets(`Manuf-RF` ~ `Mkt-RF`+`SMB`+`HML`, data = aggregate)\n",
    "rs_Manuf = summary(b_Manuf)\n",
    "rs_Manuf$which \n"
   ]
  },
  {
   "cell_type": "code",
   "execution_count": 133,
   "metadata": {},
   "outputs": [
    {
     "data": {
      "text/html": [
       "1869.33107164085"
      ],
      "text/latex": [
       "1869.33107164085"
      ],
      "text/markdown": [
       "1869.33107164085"
      ],
      "text/plain": [
       "[1] 1869.331"
      ]
     },
     "metadata": {},
     "output_type": "display_data"
    },
    {
     "data": {
      "text/html": [
       "1828.02885647064"
      ],
      "text/latex": [
       "1828.02885647064"
      ],
      "text/markdown": [
       "1828.02885647064"
      ],
      "text/plain": [
       "[1] 1828.029"
      ]
     },
     "metadata": {},
     "output_type": "display_data"
    },
    {
     "data": {
      "text/html": [
       "1828.42193170357"
      ],
      "text/latex": [
       "1828.42193170357"
      ],
      "text/markdown": [
       "1828.42193170357"
      ],
      "text/plain": [
       "[1] 1828.422"
      ]
     },
     "metadata": {},
     "output_type": "display_data"
    }
   ],
   "source": [
    "l1_Manuf = lm(`Manuf-RF` ~ `Mkt-RF`, data = aggregate)\n",
    "l2_Manuf = lm(`Manuf-RF` ~ `Mkt-RF`+`HML`, data = aggregate)\n",
    "l3_Manuf = lm(`Manuf-RF` ~ `Mkt-RF`+`SMB`+`HML`, data = aggregate)\n",
    "\n",
    "AIC(l1_Manuf)\n",
    "AIC(l2_Manuf)\n",
    "AIC(l3_Manuf)"
   ]
  },
  {
   "cell_type": "markdown",
   "metadata": {},
   "source": [
    "The model that minimizes AIC is:\n",
    "\n",
    "l2_Manuf = lm(`Manuf-RF` ~ `Mkt-RF`+`HML`, data = aggregate)"
   ]
  },
  {
   "cell_type": "code",
   "execution_count": 134,
   "metadata": {},
   "outputs": [
    {
     "data": {
      "text/html": [
       "<ol class=list-inline>\n",
       "\t<li>0.854240780830133</li>\n",
       "\t<li>0.867152726225146</li>\n",
       "\t<li>0.867327174521172</li>\n",
       "</ol>\n"
      ],
      "text/latex": [
       "\\begin{enumerate*}\n",
       "\\item 0.854240780830133\n",
       "\\item 0.867152726225146\n",
       "\\item 0.867327174521172\n",
       "\\end{enumerate*}\n"
      ],
      "text/markdown": [
       "1. 0.854240780830133\n",
       "2. 0.867152726225146\n",
       "3. 0.867327174521172\n",
       "\n",
       "\n"
      ],
      "text/plain": [
       "[1] 0.8542408 0.8671527 0.8673272"
      ]
     },
     "metadata": {},
     "output_type": "display_data"
    }
   ],
   "source": [
    "#Model Selection through Maximization of Adjusted R-Squared\n",
    "\n",
    "rs_Manuf$adjr2"
   ]
  },
  {
   "cell_type": "markdown",
   "metadata": {},
   "source": [
    "The model that maximizes Adjusted R-Squared is: \n",
    "\n",
    "l3_Manuf = lm(`Manuf-RF` ~ `Mkt-RF`+`SMB`+`HML`, data = aggregate)"
   ]
  },
  {
   "cell_type": "code",
   "execution_count": 135,
   "metadata": {},
   "outputs": [],
   "source": [
    "#LOOCV MANUF\n",
    "\n",
    "LOOCV_MANUF_3 = function(df){\n",
    "    sum_square_dev = 0\n",
    "    for (i in 1:dim(df)[1]){\n",
    "        test = df[i,]\n",
    "        train = df[-i,]\n",
    "        lmod = lm(`Manuf-RF` ~ `Mkt-RF`+`SMB`+`HML`, data = train)\n",
    "        modelMatrix = model.matrix(lmod)\n",
    "        newData = data.frame(aggregate[i,])%>% select(2:4)\n",
    "        newData = newData %>% rename(`Mkt-RF` = `Mkt.RF`)\n",
    "        predict = predict(lmod, newdata = newData)[[1]]\n",
    "        ManufActual = aggregate[i,] %>% select(11:11)\n",
    "        true = ManufActual[[1]]\n",
    "        \n",
    "        square_dev = (true - predict)^2\n",
    "        sum_square_dev = sum_square_dev + square_dev\n",
    "    }\n",
    "    mean_sum_square_dev = mean(sum_square_dev)\n",
    "    return(mean_sum_square_dev)\n",
    "}\n",
    "\n",
    "LOOCV_MANUF_2 = function(df){\n",
    "    sum_square_dev = 0\n",
    "    for (i in 1:dim(df)[1]){\n",
    "        test = df[i,]\n",
    "        train = df[-i,]\n",
    "        lmod = lm(`Manuf-RF` ~ `Mkt-RF`+`HML`, data = train)\n",
    "        modelMatrix = model.matrix(lmod)\n",
    "        newData = data.frame(aggregate[1,])%>% select(2:2,4:4)\n",
    "        newData = newData %>% rename(`Mkt-RF` = `Mkt.RF`)\n",
    "        predict = predict(lmod, newdata = newData)[[1]]\n",
    "        ManufActual = aggregate[i,] %>% select(11:11)\n",
    "        true = ManufActual[[1]]\n",
    "        \n",
    "        square_dev = (true - predict)^2\n",
    "        sum_square_dev = sum_square_dev + square_dev\n",
    "    }\n",
    "    mean_sum_square_dev = mean(sum_square_dev)\n",
    "    return(mean_sum_square_dev)\n",
    "}\n",
    "\n",
    "LOOCV_MANUF_1 = function(df){\n",
    "    sum_square_dev = 0\n",
    "    for (i in 1:dim(df)[1]){\n",
    "        test = df[i,]\n",
    "        train = df[-i,]\n",
    "        lmod = lm(`Manuf-RF` ~ `Mkt-RF`, data = train)\n",
    "        modelMatrix = model.matrix(lmod)\n",
    "        newData = data.frame(aggregate[i,])%>% select(2:2)\n",
    "        newData = newData %>% rename(`Mkt-RF` = `Mkt.RF`)\n",
    "        predict = predict(lmod, newdata = newData)[[1]]\n",
    "        ManufActual = aggregate[i,] %>% select(11:11)\n",
    "        true = ManufActual[[1]]\n",
    "        \n",
    "        square_dev = (true - predict)^2\n",
    "        sum_square_dev = sum_square_dev + square_dev\n",
    "    }\n",
    "    mean_sum_square_dev = mean(sum_square_dev)\n",
    "    return(mean_sum_square_dev)\n",
    "}"
   ]
  },
  {
   "cell_type": "code",
   "execution_count": 136,
   "metadata": {},
   "outputs": [
    {
     "name": "stdout",
     "output_type": "stream",
     "text": [
      "The manufacturing industry model with all 3 factors has a Leave-One-Out Cross Validation score of:  1486.684 \n",
      "The manufacturing industry model with Mkt-Rf and HML factors has a Leave-One-Out Cross Validation score of:  24515.06 \n"
     ]
    }
   ],
   "source": [
    "# Model selection based on minimized Leave-One-Out Cross Validation score:\n",
    "\n",
    "cat('The manufacturing industry model with all 3 factors has a Leave-One-Out Cross Validation score of: ',LOOCV_MANUF_3(aggregate),\"\\n\")\n",
    "\n",
    "cat('The manufacturing industry model with Mkt-Rf and HML factors has a Leave-One-Out Cross Validation score of: ',LOOCV_MANUF_2(aggregate),\"\\n\")\n"
   ]
  },
  {
   "cell_type": "markdown",
   "metadata": {},
   "source": [
    "The model which minimizes the Leave-One-Out Cross Validation score:\n",
    "\n",
    "l3_Manuf = lm(`Manuf-RF` ~ `Mkt-RF`+`SMB`+`HML`, data = aggregate)"
   ]
  },
  {
   "cell_type": "code",
   "execution_count": 137,
   "metadata": {},
   "outputs": [
    {
     "data": {
      "text/plain": [
       "\n",
       "Call:\n",
       "lm(formula = `Manuf-RF` ~ `Mkt-RF` + SMB + HML, data = aggregate)\n",
       "\n",
       "Residuals:\n",
       "    Min      1Q  Median      3Q     Max \n",
       "-5.9443 -1.0581  0.0334  1.0592  6.1181 \n",
       "\n",
       "Coefficients:\n",
       "             Estimate Std. Error t value Pr(>|t|)    \n",
       "(Intercept) -0.005458   0.085441  -0.064    0.949    \n",
       "`Mkt-RF`     1.061274   0.020109  52.777  < 2e-16 ***\n",
       "SMB          0.037495   0.029682   1.263    0.207    \n",
       "HML          0.202102   0.029701   6.804 3.23e-11 ***\n",
       "---\n",
       "Signif. codes:  0 '***' 0.001 '**' 0.01 '*' 0.05 '.' 0.1 ' ' 1\n",
       "\n",
       "Residual standard error: 1.785 on 452 degrees of freedom\n",
       "Multiple R-squared:  0.8682,\tAdjusted R-squared:  0.8673 \n",
       "F-statistic: 992.5 on 3 and 452 DF,  p-value: < 2.2e-16\n"
      ]
     },
     "metadata": {},
     "output_type": "display_data"
    }
   ],
   "source": [
    "# Displaying Summary of Preffered Model\n",
    "\n",
    "summary(l3_Manuf)"
   ]
  },
  {
   "cell_type": "code",
   "execution_count": 138,
   "metadata": {},
   "outputs": [
    {
     "data": {
      "image/png": "[encoded data removed]",
      "text/plain": [
       "Plot with title \"\""
      ]
     },
     "metadata": {},
     "output_type": "display_data"
    }
   ],
   "source": [
    "#Check for Violation of Assumptions of Preffered Model\n",
    "\n",
    "par(mfrow = c(2,2)); plot(l3_Manuf)"
   ]
  },
  {
   "cell_type": "markdown",
   "metadata": {},
   "source": [
    "There does not appear to be any significant violations in the assumption of regression. There is no linear relationship or curvature in the residual vs fitted plot, hence the linearity assumption is not violated. There is also no trumpeting pattern in the residual vs fitted plot so the constant variance assumption is not violated. While there is some deviation in normality in the tails of the normal q-q plot, this is the least important of the other assumptions. All else equal, unless the sample size is small, results are reasonably robust to deviations in normality."
   ]
  },
  {
   "cell_type": "code",
   "execution_count": 139,
   "metadata": {},
   "outputs": [
    {
     "name": "stdout",
     "output_type": "stream",
     "text": [
      "The condition number for the regression run on the manufacturing industry is : 4.743328"
     ]
    }
   ],
   "source": [
    "# Checking for collinearity among predictors \n",
    "\n",
    "X_Manuf=model.matrix(l3_Manuf)\n",
    "ev_Manuf = eigen(t(X_Manuf)%*%X_Manuf)\n",
    "Condition_Number_Manuf = sqrt(ev_Manuf$values[1]/ev_Manuf$values[length(ev_Manuf$values)])\n",
    "cat('The condition number for the regression run on the manufacturing industry is :',Condition_Number_Manuf)"
   ]
  },
  {
   "cell_type": "markdown",
   "metadata": {},
   "source": [
    "Because the condition number is less than 30, there is no evidence of collinearity between predictors."
   ]
  },
  {
   "cell_type": "code",
   "execution_count": 140,
   "metadata": {},
   "outputs": [
    {
     "data": {
      "text/html": [
       "<dl class=dl-horizontal>\n",
       "\t<dt>`Mkt-RF`</dt>\n",
       "\t\t<dd>1.11949498831718</dd>\n",
       "\t<dt>SMB</dt>\n",
       "\t\t<dd>1.05281673097477</dd>\n",
       "\t<dt>HML</dt>\n",
       "\t\t<dd>1.09137658913855</dd>\n",
       "</dl>\n"
      ],
      "text/latex": [
       "\\begin{description*}\n",
       "\\item[`Mkt-RF`] 1.11949498831718\n",
       "\\item[SMB] 1.05281673097477\n",
       "\\item[HML] 1.09137658913855\n",
       "\\end{description*}\n"
      ],
      "text/markdown": [
       "`Mkt-RF`\n",
       ":   1.11949498831718SMB\n",
       ":   1.05281673097477HML\n",
       ":   1.09137658913855\n",
       "\n"
      ],
      "text/plain": [
       "`Mkt-RF`      SMB      HML \n",
       "1.119495 1.052817 1.091377 "
      ]
     },
     "metadata": {},
     "output_type": "display_data"
    }
   ],
   "source": [
    "# Further investigation into collinearity among predictors\n",
    "\n",
    "vif(l3_Manuf)"
   ]
  },
  {
   "cell_type": "markdown",
   "metadata": {},
   "source": [
    "Furthermore, VIFs of greater than 10 are evidence of collinearity since none of them are greater than 10 then there is no evidence of collinearty."
   ]
  },
  {
   "cell_type": "code",
   "execution_count": 141,
   "metadata": {},
   "outputs": [
    {
     "name": "stdout",
     "output_type": "stream",
     "text": [
      "The manufacturing industry model with the Mkt-Rf factor only has a Leave-One-Out Cross Validation score of:  1609.472"
     ]
    }
   ],
   "source": [
    "# Comparing the selected model to single predictor Leave-One-Out Cross Validation score:\n",
    "\n",
    "cat('The manufacturing industry model with the Mkt-Rf factor only has a Leave-One-Out Cross Validation score of: ',LOOCV_MANUF_1(aggregate))"
   ]
  },
  {
   "cell_type": "code",
   "execution_count": 142,
   "metadata": {},
   "outputs": [],
   "source": [
    "#HiTech Industry Analysis\n",
    "\n",
    "lmod_HiTec=lm(`HiTec-RF` ~ `Mkt-RF`+`SMB`+`HML`, data = aggregate)\n",
    "#summary(lmod_HiTec)\n",
    "#par(mfrow = c(2,2)); plot(lmod_HiTec)"
   ]
  },
  {
   "cell_type": "code",
   "execution_count": 143,
   "metadata": {},
   "outputs": [
    {
     "data": {
      "text/plain": [
       "\n",
       "Call:\n",
       "lm(formula = `HiTec-RF` ~ `Mkt-RF` + SMB + HML, data = aggregate)\n",
       "\n",
       "Residuals:\n",
       "    Min      1Q  Median      3Q     Max \n",
       "-9.0704 -1.6237 -0.0907  1.7709  8.1945 \n",
       "\n",
       "Coefficients:\n",
       "            Estimate Std. Error t value Pr(>|t|)    \n",
       "(Intercept)  0.12095    0.13787   0.877    0.381    \n",
       "`Mkt-RF`     1.16579    0.03245  35.927  < 2e-16 ***\n",
       "SMB          0.20117    0.04790   4.200 3.22e-05 ***\n",
       "HML         -0.64656    0.04793 -13.490  < 2e-16 ***\n",
       "---\n",
       "Signif. codes:  0 '***' 0.001 '**' 0.01 '*' 0.05 '.' 0.1 ' ' 1\n",
       "\n",
       "Residual standard error: 2.88 on 452 degrees of freedom\n",
       "Multiple R-squared:  0.819,\tAdjusted R-squared:  0.8178 \n",
       "F-statistic: 681.6 on 3 and 452 DF,  p-value: < 2.2e-16\n"
      ]
     },
     "metadata": {},
     "output_type": "display_data"
    }
   ],
   "source": [
    "#Model Selection through Backwards Elimination (15% level)\n",
    "summary(lmod_HiTec)"
   ]
  },
  {
   "cell_type": "markdown",
   "metadata": {},
   "source": [
    "The preffered model by Backwards Elimination is:\n",
    "\n",
    "l3_HiTec = lm(`HiTec-RF` ~ `Mkt-RF`+`SMB`+`HML`, data = aggregate)"
   ]
  },
  {
   "cell_type": "code",
   "execution_count": 144,
   "metadata": {},
   "outputs": [
    {
     "data": {
      "text/html": [
       "<table>\n",
       "<thead><tr><th scope=col>(Intercept)</th><th scope=col>`Mkt-RF`</th><th scope=col>SMB</th><th scope=col>HML</th></tr></thead>\n",
       "<tbody>\n",
       "\t<tr><td>TRUE </td><td>TRUE </td><td>FALSE</td><td>FALSE</td></tr>\n",
       "\t<tr><td>TRUE </td><td>TRUE </td><td>FALSE</td><td> TRUE</td></tr>\n",
       "\t<tr><td>TRUE </td><td>TRUE </td><td> TRUE</td><td> TRUE</td></tr>\n",
       "</tbody>\n",
       "</table>\n"
      ],
      "text/latex": [
       "\\begin{tabular}{r|llll}\n",
       " (Intercept) & `Mkt-RF` & SMB & HML\\\\\n",
       "\\hline\n",
       "\t TRUE  & TRUE  & FALSE & FALSE\\\\\n",
       "\t TRUE  & TRUE  & FALSE &  TRUE\\\\\n",
       "\t TRUE  & TRUE  &  TRUE &  TRUE\\\\\n",
       "\\end{tabular}\n"
      ],
      "text/markdown": [
       "\n",
       "| (Intercept) | `Mkt-RF` | SMB | HML |\n",
       "|---|---|---|---|\n",
       "| TRUE  | TRUE  | FALSE | FALSE |\n",
       "| TRUE  | TRUE  | FALSE |  TRUE |\n",
       "| TRUE  | TRUE  |  TRUE |  TRUE |\n",
       "\n"
      ],
      "text/plain": [
       "  (Intercept) `Mkt-RF` SMB   HML  \n",
       "1 TRUE        TRUE     FALSE FALSE\n",
       "2 TRUE        TRUE     FALSE  TRUE\n",
       "3 TRUE        TRUE      TRUE  TRUE"
      ]
     },
     "metadata": {},
     "output_type": "display_data"
    }
   ],
   "source": [
    "#Model Selection through Minimized AIC\n",
    "\n",
    "b_HiTec = regsubsets(`HiTec-RF` ~ `Mkt-RF`+`SMB`+`HML`, data = aggregate)\n",
    "rs_HiTec = summary(b_HiTec)\n",
    "rs_HiTec$which "
   ]
  },
  {
   "cell_type": "code",
   "execution_count": 145,
   "metadata": {},
   "outputs": [
    {
     "data": {
      "text/html": [
       "2435.2738248768"
      ],
      "text/latex": [
       "2435.2738248768"
      ],
      "text/markdown": [
       "2435.2738248768"
      ],
      "text/plain": [
       "[1] 2435.274"
      ]
     },
     "metadata": {},
     "output_type": "display_data"
    },
    {
     "data": {
      "text/html": [
       "2280.28543945834"
      ],
      "text/latex": [
       "2280.28543945834"
      ],
      "text/markdown": [
       "2280.28543945834"
      ],
      "text/plain": [
       "[1] 2280.285"
      ]
     },
     "metadata": {},
     "output_type": "display_data"
    },
    {
     "data": {
      "text/html": [
       "2264.82863399423"
      ],
      "text/latex": [
       "2264.82863399423"
      ],
      "text/markdown": [
       "2264.82863399423"
      ],
      "text/plain": [
       "[1] 2264.829"
      ]
     },
     "metadata": {},
     "output_type": "display_data"
    }
   ],
   "source": [
    "l1_HiTec = lm(`HiTec-RF` ~ `Mkt-RF`, data = aggregate)\n",
    "l2_HiTec = lm(`HiTec-RF` ~ `Mkt-RF`+`HML`, data = aggregate)\n",
    "l3_HiTec = lm(`HiTec-RF` ~ `Mkt-RF`+`SMB`+`HML`, data = aggregate)\n",
    "\n",
    "AIC(l1_HiTec)\n",
    "AIC(l2_HiTec)\n",
    "AIC(l3_HiTec)"
   ]
  },
  {
   "cell_type": "markdown",
   "metadata": {},
   "source": [
    "The model that minimizes AIC is:\n",
    "\n",
    "l3_HiTec = lm(`HiTec-RF` ~ `Mkt-RF`+`SMB`+`HML`, data = aggregate)\n"
   ]
  },
  {
   "cell_type": "code",
   "execution_count": 146,
   "metadata": {},
   "outputs": [
    {
     "data": {
      "text/html": [
       "<ol class=list-inline>\n",
       "\t<li>0.73400870802387</li>\n",
       "\t<li>0.811066354986225</li>\n",
       "\t<li>0.817760210184432</li>\n",
       "</ol>\n"
      ],
      "text/latex": [
       "\\begin{enumerate*}\n",
       "\\item 0.73400870802387\n",
       "\\item 0.811066354986225\n",
       "\\item 0.817760210184432\n",
       "\\end{enumerate*}\n"
      ],
      "text/markdown": [
       "1. 0.73400870802387\n",
       "2. 0.811066354986225\n",
       "3. 0.817760210184432\n",
       "\n",
       "\n"
      ],
      "text/plain": [
       "[1] 0.7340087 0.8110664 0.8177602"
      ]
     },
     "metadata": {},
     "output_type": "display_data"
    }
   ],
   "source": [
    "#Model selection through Maximization of Adjusted R-Squared\n",
    "rs_HiTec$adjr2"
   ]
  },
  {
   "cell_type": "markdown",
   "metadata": {},
   "source": [
    "The model that maximizes Adjusted R-Squared is:\n",
    "\n",
    "l3_HiTec = lm(`HiTec-RF` ~ `Mkt-RF`+`SMB`+`HML`, data = aggregate)"
   ]
  },
  {
   "cell_type": "markdown",
   "metadata": {},
   "source": [
    "Because all the methods of selection agree, Leave-One-Out Cross Validation is now necessary to determine the best model. The preffered model is:\n",
    "\n",
    "l3_HiTec = lm(`HiTec-RF` ~ `Mkt-RF`+`SMB`+`HML`, data = aggregate)"
   ]
  },
  {
   "cell_type": "code",
   "execution_count": 147,
   "metadata": {},
   "outputs": [
    {
     "data": {
      "text/plain": [
       "\n",
       "Call:\n",
       "lm(formula = `HiTec-RF` ~ `Mkt-RF` + SMB + HML, data = aggregate)\n",
       "\n",
       "Residuals:\n",
       "    Min      1Q  Median      3Q     Max \n",
       "-9.0704 -1.6237 -0.0907  1.7709  8.1945 \n",
       "\n",
       "Coefficients:\n",
       "            Estimate Std. Error t value Pr(>|t|)    \n",
       "(Intercept)  0.12095    0.13787   0.877    0.381    \n",
       "`Mkt-RF`     1.16579    0.03245  35.927  < 2e-16 ***\n",
       "SMB          0.20117    0.04790   4.200 3.22e-05 ***\n",
       "HML         -0.64656    0.04793 -13.490  < 2e-16 ***\n",
       "---\n",
       "Signif. codes:  0 '***' 0.001 '**' 0.01 '*' 0.05 '.' 0.1 ' ' 1\n",
       "\n",
       "Residual standard error: 2.88 on 452 degrees of freedom\n",
       "Multiple R-squared:  0.819,\tAdjusted R-squared:  0.8178 \n",
       "F-statistic: 681.6 on 3 and 452 DF,  p-value: < 2.2e-16\n"
      ]
     },
     "metadata": {},
     "output_type": "display_data"
    }
   ],
   "source": [
    "# Display Summary of Preffered Model\n",
    "\n",
    "summary(l3_HiTec)"
   ]
  },
  {
   "cell_type": "code",
   "execution_count": 148,
   "metadata": {},
   "outputs": [
    {
     "data": {
      "image/png": "[encoded data removed]",
      "text/plain": [
       "Plot with title \"\""
      ]
     },
     "metadata": {},
     "output_type": "display_data"
    }
   ],
   "source": [
    "# Check for violation of Assumptions of Preffered Model\n",
    "\n",
    "par(mfrow = c(2,2)); plot(l3_HiTec)"
   ]
  },
  {
   "cell_type": "markdown",
   "metadata": {},
   "source": [
    "There does not appear to be any significant violations in the assumption of regression. There is no linear relationship or curvature in the residual vs fitted plot, hence the linearity assumption is not violated. On the residual vs fitted plot, there is some linear relationship in the range of the lower fitted values, however, this is a result of outliers pulling up the horizontal line and is hence not a legitimate issue. There is also no trumpeting pattern in the residual vs fitted plot so the constant variance assumption is not violated. While there is some deviation in normality in the tails of the normal q-q plot, this is the least important of the other assumptions. All else equal, unless the sample size is small, results are reasonably robust to deviations in normality."
   ]
  },
  {
   "cell_type": "code",
   "execution_count": 149,
   "metadata": {},
   "outputs": [
    {
     "name": "stdout",
     "output_type": "stream",
     "text": [
      "The condition number for the regression run on the hitech industry is : 4.743328"
     ]
    }
   ],
   "source": [
    "# Checking for collinearity among predictors \n",
    "\n",
    "X_HiTec=model.matrix(l3_HiTec)\n",
    "ev_HiTec = eigen(t(X_HiTec)%*%X_HiTec)\n",
    "Condition_Number_HiTec = sqrt(ev_HiTec$values[1]/ev_HiTec$values[length(ev_HiTec$values)])\n",
    "cat('The condition number for the regression run on the hitech industry is :',Condition_Number_HiTec)\n",
    "\n"
   ]
  },
  {
   "cell_type": "markdown",
   "metadata": {},
   "source": [
    "Because the condition number is less than 30, there is no evidence of collinearity between predictors.\n"
   ]
  },
  {
   "cell_type": "code",
   "execution_count": 150,
   "metadata": {},
   "outputs": [
    {
     "data": {
      "text/html": [
       "<dl class=dl-horizontal>\n",
       "\t<dt>`Mkt-RF`</dt>\n",
       "\t\t<dd>1.11949498831718</dd>\n",
       "\t<dt>SMB</dt>\n",
       "\t\t<dd>1.05281673097477</dd>\n",
       "\t<dt>HML</dt>\n",
       "\t\t<dd>1.09137658913855</dd>\n",
       "</dl>\n"
      ],
      "text/latex": [
       "\\begin{description*}\n",
       "\\item[`Mkt-RF`] 1.11949498831718\n",
       "\\item[SMB] 1.05281673097477\n",
       "\\item[HML] 1.09137658913855\n",
       "\\end{description*}\n"
      ],
      "text/markdown": [
       "`Mkt-RF`\n",
       ":   1.11949498831718SMB\n",
       ":   1.05281673097477HML\n",
       ":   1.09137658913855\n",
       "\n"
      ],
      "text/plain": [
       "`Mkt-RF`      SMB      HML \n",
       "1.119495 1.052817 1.091377 "
      ]
     },
     "metadata": {},
     "output_type": "display_data"
    }
   ],
   "source": [
    "# Further investigation into collinearity among predictors\n",
    "\n",
    "vif(l3_HiTec)"
   ]
  },
  {
   "cell_type": "markdown",
   "metadata": {},
   "source": [
    "Furthermore, VIFs of greater than 10 are evidence of collinearity since none of them are greater than 10 then there is no evidence of collinearty."
   ]
  },
  {
   "cell_type": "code",
   "execution_count": 151,
   "metadata": {},
   "outputs": [],
   "source": [
    "#LOOCV HiTec\n",
    "\n",
    "LOOCV_HITEC_3 = function(df){\n",
    "    sum_square_dev = 0\n",
    "    for (i in 1:dim(df)[1]){\n",
    "        test = df[i,]\n",
    "        train = df[-i,]\n",
    "        lmod = lm(`HiTec-RF` ~ `Mkt-RF`+`SMB`+`HML`, data = train)\n",
    "        modelMatrix = model.matrix(lmod)\n",
    "        newData = data.frame(aggregate[i,])%>% select(2:4)\n",
    "        newData = newData %>% rename(`Mkt-RF` = `Mkt.RF`)\n",
    "        predict = predict(lmod, newdata = newData)[[1]]\n",
    "        HiTecActual = aggregate[i,] %>% select(12:12)\n",
    "        true = HiTecActual[[1]]\n",
    "        \n",
    "        square_dev = (true - predict)^2\n",
    "        sum_square_dev = sum_square_dev + square_dev\n",
    "    }\n",
    "    mean_sum_square_dev = mean(sum_square_dev)\n",
    "    return(mean_sum_square_dev)\n",
    "}\n",
    "\n",
    "LOOCV_HITEC_1 = function(df){\n",
    "    sum_square_dev = 0\n",
    "    for (i in 1:dim(df)[1]){\n",
    "        test = df[i,]\n",
    "        train = df[-i,]\n",
    "        lmod = lm(`HiTec-RF` ~ `Mkt-RF`, data = train)\n",
    "        modelMatrix = model.matrix(lmod)\n",
    "        newData = data.frame(aggregate[i,])%>% select(2:2)\n",
    "        newData = newData %>% rename(`Mkt-RF` = `Mkt.RF`)\n",
    "        predict = predict(lmod, newdata = newData)[[1]]\n",
    "        HiTecActual = aggregate[i,] %>% select(12:12)\n",
    "        true = HiTecActual[[1]]\n",
    "        \n",
    "        square_dev = (true - predict)^2\n",
    "        sum_square_dev = sum_square_dev + square_dev\n",
    "    }\n",
    "    mean_sum_square_dev = mean(sum_square_dev)\n",
    "    return(mean_sum_square_dev)\n",
    "}"
   ]
  },
  {
   "cell_type": "code",
   "execution_count": 152,
   "metadata": {},
   "outputs": [
    {
     "name": "stdout",
     "output_type": "stream",
     "text": [
      "The hitech industry model with all three factors has a Leave-One-Out Cross Validation score of:  3846.484 \n",
      "The hitech industry model with the Mkt-Rf factor only has a Leave-One-Out Cross Validation score of:  5557.538 \n"
     ]
    }
   ],
   "source": [
    "# Comparing the selected model to single predictor Leave-One-Out Cross Validation score:\n",
    "\n",
    "cat('The hitech industry model with all three factors has a Leave-One-Out Cross Validation score of: ',LOOCV_HITEC_3(aggregate),\"\\n\")\n",
    "\n",
    "cat('The hitech industry model with the Mkt-Rf factor only has a Leave-One-Out Cross Validation score of: ',LOOCV_HITEC_1(aggregate),\"\\n\")"
   ]
  },
  {
   "cell_type": "code",
   "execution_count": 153,
   "metadata": {},
   "outputs": [],
   "source": [
    "# Utility Industry Analysis\n",
    "\n",
    "lmod_Utils=lm(`Utils-RF` ~ `Mkt-RF`+`SMB`+`HML`, data = aggregate)\n",
    "#summary(lmod_Utils)\n",
    "#par(mfrow = c(2,2)); plot(lmod_Utils)"
   ]
  },
  {
   "cell_type": "code",
   "execution_count": 154,
   "metadata": {},
   "outputs": [
    {
     "data": {
      "text/plain": [
       "\n",
       "Call:\n",
       "lm(formula = `Utils-RF` ~ `Mkt-RF` + SMB + HML, data = aggregate)\n",
       "\n",
       "Residuals:\n",
       "     Min       1Q   Median       3Q      Max \n",
       "-10.1951  -2.0135   0.2293   1.8982   9.8216 \n",
       "\n",
       "Coefficients:\n",
       "            Estimate Std. Error t value Pr(>|t|)    \n",
       "(Intercept)  0.21211    0.15169   1.398    0.163    \n",
       "`Mkt-RF`     0.53029    0.03570  14.854  < 2e-16 ***\n",
       "SMB         -0.24015    0.05270  -4.557 6.68e-06 ***\n",
       "HML          0.32481    0.05273   6.160 1.61e-09 ***\n",
       "---\n",
       "Signif. codes:  0 '***' 0.001 '**' 0.01 '*' 0.05 '.' 0.1 ' ' 1\n",
       "\n",
       "Residual standard error: 3.169 on 452 degrees of freedom\n",
       "Multiple R-squared:  0.3389,\tAdjusted R-squared:  0.3345 \n",
       "F-statistic: 77.24 on 3 and 452 DF,  p-value: < 2.2e-16\n"
      ]
     },
     "metadata": {},
     "output_type": "display_data"
    }
   ],
   "source": [
    "#Model Selection through Backwards Elimination (15% level)\n",
    "\n",
    "summary(lmod_Utils)"
   ]
  },
  {
   "cell_type": "markdown",
   "metadata": {},
   "source": [
    "The preffered model by Backwards Elimination is:\n",
    "\n",
    "l3_Utils = lm(`Utils-RF` ~ `Mkt-RF`+`SMB`+`HML`, data = aggregate)"
   ]
  },
  {
   "cell_type": "code",
   "execution_count": 155,
   "metadata": {},
   "outputs": [
    {
     "data": {
      "text/html": [
       "<table>\n",
       "<thead><tr><th scope=col>(Intercept)</th><th scope=col>`Mkt-RF`</th><th scope=col>SMB</th><th scope=col>HML</th></tr></thead>\n",
       "<tbody>\n",
       "\t<tr><td>TRUE </td><td>TRUE </td><td>FALSE</td><td>FALSE</td></tr>\n",
       "\t<tr><td>TRUE </td><td>TRUE </td><td>FALSE</td><td> TRUE</td></tr>\n",
       "\t<tr><td>TRUE </td><td>TRUE </td><td> TRUE</td><td> TRUE</td></tr>\n",
       "</tbody>\n",
       "</table>\n"
      ],
      "text/latex": [
       "\\begin{tabular}{r|llll}\n",
       " (Intercept) & `Mkt-RF` & SMB & HML\\\\\n",
       "\\hline\n",
       "\t TRUE  & TRUE  & FALSE & FALSE\\\\\n",
       "\t TRUE  & TRUE  & FALSE &  TRUE\\\\\n",
       "\t TRUE  & TRUE  &  TRUE &  TRUE\\\\\n",
       "\\end{tabular}\n"
      ],
      "text/markdown": [
       "\n",
       "| (Intercept) | `Mkt-RF` | SMB | HML |\n",
       "|---|---|---|---|\n",
       "| TRUE  | TRUE  | FALSE | FALSE |\n",
       "| TRUE  | TRUE  | FALSE |  TRUE |\n",
       "| TRUE  | TRUE  |  TRUE |  TRUE |\n",
       "\n"
      ],
      "text/plain": [
       "  (Intercept) `Mkt-RF` SMB   HML  \n",
       "1 TRUE        TRUE     FALSE FALSE\n",
       "2 TRUE        TRUE     FALSE  TRUE\n",
       "3 TRUE        TRUE      TRUE  TRUE"
      ]
     },
     "metadata": {},
     "output_type": "display_data"
    }
   ],
   "source": [
    "#Model Selection through Minimized AIC\n",
    "\n",
    "b_Utils = regsubsets(`Utils-RF` ~ `Mkt-RF`+`SMB`+`HML`, data = aggregate)\n",
    "rs_Utils = summary(b_Utils)\n",
    "rs_Utils$which "
   ]
  },
  {
   "cell_type": "code",
   "execution_count": 156,
   "metadata": {},
   "outputs": [
    {
     "data": {
      "text/html": [
       "2408.20021011718"
      ],
      "text/latex": [
       "2408.20021011718"
      ],
      "text/markdown": [
       "2408.20021011718"
      ],
      "text/plain": [
       "[1] 2408.2"
      ]
     },
     "metadata": {},
     "output_type": "display_data"
    },
    {
     "data": {
      "text/html": [
       "2370.39991298042"
      ],
      "text/latex": [
       "2370.39991298042"
      ],
      "text/markdown": [
       "2370.39991298042"
      ],
      "text/plain": [
       "[1] 2370.4"
      ]
     },
     "metadata": {},
     "output_type": "display_data"
    },
    {
     "data": {
      "text/html": [
       "2351.91468440946"
      ],
      "text/latex": [
       "2351.91468440946"
      ],
      "text/markdown": [
       "2351.91468440946"
      ],
      "text/plain": [
       "[1] 2351.915"
      ]
     },
     "metadata": {},
     "output_type": "display_data"
    }
   ],
   "source": [
    "l1_Utils = lm(`Utils-RF` ~ `Mkt-RF`, data = aggregate)\n",
    "l2_Utils = lm(`Utils-RF` ~ `Mkt-RF`+`HML`, data = aggregate)\n",
    "l3_Utils = lm(`Utils-RF` ~ `Mkt-RF`+`SMB`+`HML`, data = aggregate)\n",
    "\n",
    "AIC(l1_Utils)\n",
    "AIC(l2_Utils)\n",
    "AIC(l3_Utils)"
   ]
  },
  {
   "cell_type": "markdown",
   "metadata": {},
   "source": [
    "The model that minimizes AIC is:\n",
    "\n",
    "l3_Utils = lm(`Utils-RF` ~ `Mkt-RF`+`SMB`+`HML`, data = aggregate)"
   ]
  },
  {
   "cell_type": "code",
   "execution_count": 157,
   "metadata": {},
   "outputs": [
    {
     "data": {
      "text/html": [
       "<ol class=list-inline>\n",
       "\t<li>0.243793791238516</li>\n",
       "\t<li>0.305468289175336</li>\n",
       "\t<li>0.334509728183794</li>\n",
       "</ol>\n"
      ],
      "text/latex": [
       "\\begin{enumerate*}\n",
       "\\item 0.243793791238516\n",
       "\\item 0.305468289175336\n",
       "\\item 0.334509728183794\n",
       "\\end{enumerate*}\n"
      ],
      "text/markdown": [
       "1. 0.243793791238516\n",
       "2. 0.305468289175336\n",
       "3. 0.334509728183794\n",
       "\n",
       "\n"
      ],
      "text/plain": [
       "[1] 0.2437938 0.3054683 0.3345097"
      ]
     },
     "metadata": {},
     "output_type": "display_data"
    }
   ],
   "source": [
    "#Model selection through Maximization of Adjusted R-Squared\n",
    "\n",
    "rs_Utils$adjr2"
   ]
  },
  {
   "cell_type": "markdown",
   "metadata": {},
   "source": [
    "The model that maximizes Adjusted R-Squared:\n",
    "\n",
    "l3_Utils = lm(`Utils-RF` ~ `Mkt-RF`+`SMB`+`HML`, data = aggregate)"
   ]
  },
  {
   "cell_type": "markdown",
   "metadata": {},
   "source": [
    "Because all the methods of selection agree, Leave-One-Out Cross Validation analysis is not necessary. The preffered model is:\n",
    "\n",
    "l3_Utils = lm(Utils-RF ~ Mkt-RF+SMB+HML, data = aggregate)"
   ]
  },
  {
   "cell_type": "code",
   "execution_count": 158,
   "metadata": {},
   "outputs": [
    {
     "data": {
      "text/plain": [
       "\n",
       "Call:\n",
       "lm(formula = `Utils-RF` ~ `Mkt-RF` + SMB + HML, data = aggregate)\n",
       "\n",
       "Residuals:\n",
       "     Min       1Q   Median       3Q      Max \n",
       "-10.1951  -2.0135   0.2293   1.8982   9.8216 \n",
       "\n",
       "Coefficients:\n",
       "            Estimate Std. Error t value Pr(>|t|)    \n",
       "(Intercept)  0.21211    0.15169   1.398    0.163    \n",
       "`Mkt-RF`     0.53029    0.03570  14.854  < 2e-16 ***\n",
       "SMB         -0.24015    0.05270  -4.557 6.68e-06 ***\n",
       "HML          0.32481    0.05273   6.160 1.61e-09 ***\n",
       "---\n",
       "Signif. codes:  0 '***' 0.001 '**' 0.01 '*' 0.05 '.' 0.1 ' ' 1\n",
       "\n",
       "Residual standard error: 3.169 on 452 degrees of freedom\n",
       "Multiple R-squared:  0.3389,\tAdjusted R-squared:  0.3345 \n",
       "F-statistic: 77.24 on 3 and 452 DF,  p-value: < 2.2e-16\n"
      ]
     },
     "metadata": {},
     "output_type": "display_data"
    }
   ],
   "source": [
    "# Display Summary for Preffered Model\n",
    "\n",
    "summary(l3_Utils)"
   ]
  },
  {
   "cell_type": "code",
   "execution_count": 159,
   "metadata": {},
   "outputs": [
    {
     "data": {
      "image/png": "[encoded data removed]",
      "text/plain": [
       "Plot with title \"\""
      ]
     },
     "metadata": {},
     "output_type": "display_data"
    }
   ],
   "source": [
    "# Check for violation of Assumptions of Preffered Model\n",
    "\n",
    "par(mfrow = c(2,2)); plot(l3_Utils)"
   ]
  },
  {
   "cell_type": "markdown",
   "metadata": {},
   "source": [
    "There does not appear to be any significant violations in the assumption of regression. There is no linear relationship or curvature in the residual vs fitted plot, hence the linearity assumption is not violated. There is also no trumpeting pattern in the residual vs fitted plot so the constant variance assumption is not violated. While there is some deviation in normality in the tails of the normal q-q plot, this is the least important of the other assumptions. All else equal, unless the sample size is small, results are reasonably robust to deviations in normality."
   ]
  },
  {
   "cell_type": "code",
   "execution_count": 160,
   "metadata": {},
   "outputs": [
    {
     "name": "stdout",
     "output_type": "stream",
     "text": [
      "The condition number for the regression run on the utility industry is : 4.743328"
     ]
    }
   ],
   "source": [
    "# Checking for collinearity among predictors \n",
    "\n",
    "X_Utils=model.matrix(l3_Utils)\n",
    "ev_Utils = eigen(t(X_Utils)%*%X_Utils)\n",
    "Condition_Number_Utils = sqrt(ev_Utils$values[1]/ev_Utils$values[length(ev_Utils$values)])\n",
    "cat('The condition number for the regression run on the utility industry is :',Condition_Number_Utils)\n"
   ]
  },
  {
   "cell_type": "markdown",
   "metadata": {},
   "source": [
    "Because the condition number is less than 30, there is no evidence of collinearity between predictors.\n"
   ]
  },
  {
   "cell_type": "code",
   "execution_count": 161,
   "metadata": {},
   "outputs": [
    {
     "data": {
      "text/html": [
       "<dl class=dl-horizontal>\n",
       "\t<dt>`Mkt-RF`</dt>\n",
       "\t\t<dd>1.11949498831718</dd>\n",
       "\t<dt>SMB</dt>\n",
       "\t\t<dd>1.05281673097477</dd>\n",
       "\t<dt>HML</dt>\n",
       "\t\t<dd>1.09137658913855</dd>\n",
       "</dl>\n"
      ],
      "text/latex": [
       "\\begin{description*}\n",
       "\\item[`Mkt-RF`] 1.11949498831718\n",
       "\\item[SMB] 1.05281673097477\n",
       "\\item[HML] 1.09137658913855\n",
       "\\end{description*}\n"
      ],
      "text/markdown": [
       "`Mkt-RF`\n",
       ":   1.11949498831718SMB\n",
       ":   1.05281673097477HML\n",
       ":   1.09137658913855\n",
       "\n"
      ],
      "text/plain": [
       "`Mkt-RF`      SMB      HML \n",
       "1.119495 1.052817 1.091377 "
      ]
     },
     "metadata": {},
     "output_type": "display_data"
    }
   ],
   "source": [
    "# Further investigation into collinearity among predictors\n",
    "\n",
    "vif(l3_Utils)"
   ]
  },
  {
   "cell_type": "markdown",
   "metadata": {},
   "source": [
    "Furthermore, VIFs of greater than 10 are evidence of collinearity since none of them are greater than 10 then there is no evidence of collinearty.\n"
   ]
  },
  {
   "cell_type": "code",
   "execution_count": 162,
   "metadata": {},
   "outputs": [],
   "source": [
    "#LOOCV UTILS\n",
    "\n",
    "LOOCV_UTILS_3 = function(df){\n",
    "    sum_square_dev = 0\n",
    "    for (i in 1:dim(df)[1]){\n",
    "        test = df[i,]\n",
    "        train = df[-i,]\n",
    "        lmod = lm(`Utils-RF` ~ `Mkt-RF`+`SMB`+`HML`, data = train)\n",
    "        modelMatrix = model.matrix(lmod)\n",
    "        newData = data.frame(aggregate[i,])%>% select(2:4)\n",
    "        newData = newData %>% rename(`Mkt-RF` = `Mkt.RF`)\n",
    "        predict = predict(lmod, newdata = newData)[[1]]\n",
    "        UtilsActual = aggregate[i,] %>% select(13:13)\n",
    "        true = UtilsActual[[1]]\n",
    "        \n",
    "        square_dev = (true - predict)^2\n",
    "        sum_square_dev = sum_square_dev + square_dev\n",
    "    }\n",
    "    mean_sum_square_dev = mean(sum_square_dev)\n",
    "    return(mean_sum_square_dev)\n",
    "}\n",
    "\n",
    "LOOCV_UTILS_1 = function(df){\n",
    "    sum_square_dev = 0\n",
    "    for (i in 1:dim(df)[1]){\n",
    "        test = df[i,]\n",
    "        train = df[-i,]\n",
    "        lmod = lm(`Utils-RF` ~ `Mkt-RF`, data = train)\n",
    "        modelMatrix = model.matrix(lmod)\n",
    "        newData = data.frame(aggregate[i,])%>% select(2:2)\n",
    "        newData = newData %>% rename(`Mkt-RF` = `Mkt.RF`)\n",
    "        predict = predict(lmod, newdata = newData)[[1]]\n",
    "        UtilsActual = aggregate[i,] %>% select(13:13)\n",
    "        true = UtilsActual[[1]]\n",
    "        \n",
    "        square_dev = (true - predict)^2\n",
    "        sum_square_dev = sum_square_dev + square_dev\n",
    "    }\n",
    "    mean_sum_square_dev = mean(sum_square_dev)\n",
    "    return(mean_sum_square_dev)\n",
    "}"
   ]
  },
  {
   "cell_type": "code",
   "execution_count": 163,
   "metadata": {},
   "outputs": [
    {
     "name": "stdout",
     "output_type": "stream",
     "text": [
      "The utility industry model with all three factors has a Leave-One-Out Cross Validation score of:  4651.203 \n",
      "The utility industry model with the Mkt-Rf factor only has a Leave-One-Out Cross Validation score of:  5239.086 \n"
     ]
    }
   ],
   "source": [
    "# Comparing the selected model to single predictor Leave-One-Out Cross Validation score:\n",
    "\n",
    "cat('The utility industry model with all three factors has a Leave-One-Out Cross Validation score of: ',LOOCV_UTILS_3(aggregate),\"\\n\")\n",
    "\n",
    "cat('The utility industry model with the Mkt-Rf factor only has a Leave-One-Out Cross Validation score of: ',LOOCV_UTILS_1(aggregate),\"\\n\")"
   ]
  },
  {
   "cell_type": "code",
   "execution_count": 164,
   "metadata": {},
   "outputs": [],
   "source": [
    "#Pre and post 2013 analysis\n",
    "\n",
    "after_2013 = aggregate %>% filter(Year<201300)\n",
    "before_2013 = aggregate %>% filter(Year>=201300)"
   ]
  },
  {
   "cell_type": "code",
   "execution_count": 165,
   "metadata": {},
   "outputs": [],
   "source": [
    "Util_after_2013 = lm(`Utils-RF` ~ `Mkt-RF`+`SMB`+`HML`, data = after_2013)\n",
    "Util_before_2013 = lm(`Utils-RF` ~ `Mkt-RF`+`SMB`+`HML`, data = before_2013)\n",
    "\n",
    "HiTec_after_2013 = lm(`HiTec-RF` ~ `Mkt-RF`+`SMB`+`HML`, data = after_2013)\n",
    "HiTec_before_2013 = lm(`HiTec-RF` ~ `Mkt-RF`+`SMB`+`HML`, data = before_2013)\n",
    "\n",
    "Manuf_after_2013 = lm(`Manuf-RF` ~ `Mkt-RF`+`SMB`+`HML`, data = after_2013)\n",
    "Manuf_before_2013 = lm(`Manuf-RF` ~ `Mkt-RF`+`SMB`+`HML`, data = before_2013)\n",
    "\n"
   ]
  },
  {
   "cell_type": "code",
   "execution_count": 166,
   "metadata": {},
   "outputs": [
    {
     "name": "stdout",
     "output_type": "stream",
     "text": [
      "The utility industry model trained on pre 2013 data has an R-Squared of:  0.1472744 \n",
      "The utility industry model trained on post 2013 data has an R-Squared of:  0.3749445 \n",
      "The hitech industry model trained on pre 2013 data has an R-Squared of:  0.7891058 \n",
      "The hitech industry model trained on post 2013 data has an R-Squared of:  0.8238605 \n",
      "The manufacturing industry model trained on pre 2013 data has an R-Squared of:  0.9008318 \n",
      "The manufacturing industry model trained on post 2013 data has an R-Squared of:  0.866544 \n"
     ]
    }
   ],
   "source": [
    "cat('The utility industry model trained on pre 2013 data has an R-Squared of: ',summary(Util_before_2013)$r.squared,\"\\n\")\n",
    "cat('The utility industry model trained on post 2013 data has an R-Squared of: ',summary(Util_after_2013)$r.squared,\"\\n\")\n",
    "\n",
    "\n",
    "cat('The hitech industry model trained on pre 2013 data has an R-Squared of: ',summary(HiTec_before_2013)$r.squared,\"\\n\")\n",
    "cat('The hitech industry model trained on post 2013 data has an R-Squared of: ',summary(HiTec_after_2013)$r.squared,\"\\n\")\n",
    "\n",
    "cat('The manufacturing industry model trained on pre 2013 data has an R-Squared of: ',summary(Manuf_before_2013)$r.squared,\"\\n\")\n",
    "cat('The manufacturing industry model trained on post 2013 data has an R-Squared of: ',summary(Manuf_after_2013)$r.squared,\"\\n\")\n",
    "\n"
   ]
  },
  {
   "cell_type": "code",
   "execution_count": 167,
   "metadata": {},
   "outputs": [
    {
     "name": "stdout",
     "output_type": "stream",
     "text": [
      "The MSE for utility industry model before 2013 is 41.13064 \n",
      "The MSE for utility industry model after 2013 is 35.21721 \n",
      "The MSE for hitech industry model before 2013 is 10.14786 \n",
      "The MSE for hitech industry model after 2013 is 32.20841 \n",
      "The MSE for manufacturing industry model before 2013 is 4.194385 \n",
      "The MSE for manufacturing industry model after 2013 is 12.57748 \n"
     ]
    }
   ],
   "source": [
    "pred_Utils_before2013 = predict(Util_before_2013, before_2013, interval = \"prediction\")\n",
    "mseTest_Utils_before2013 = mean((before_2013$`Utils-RF` - pred_Utils_before2013)^2); cat(\"The MSE for utility industry model before 2013 is\", mseTest_Utils_before2013,\"\\n\")\n",
    "\n",
    "pred_Utils_after2013 = predict(Util_after_2013, after_2013, interval = \"prediction\")\n",
    "mseTest_Utils_after2013 = mean((after_2013$`Utils-RF` - pred_Utils_after2013)^2); cat(\"The MSE for utility industry model after 2013 is\", mseTest_Utils_after2013,\"\\n\")\n",
    "\n",
    "\n",
    "pred_HiTec_before2013 = predict(HiTec_before_2013, before_2013, interval = \"prediction\")\n",
    "mseTest_HiTec_before2013 = mean((before_2013$`HiTec-RF` - pred_HiTec_before2013)^2); cat(\"The MSE for hitech industry model before 2013 is\", mseTest_HiTec_before2013,\"\\n\")\n",
    "\n",
    "pred_HiTec_after2013 = predict(HiTec_after_2013, after_2013, interval = \"prediction\")\n",
    "mseTest_HiTec_after2013 = mean((after_2013$`HiTec-RF` - pred_HiTec_after2013)^2); cat(\"The MSE for hitech industry model after 2013 is\", mseTest_HiTec_after2013,\"\\n\")\n",
    "\n",
    "\n",
    "pred_Manuf_before2013 = predict(Manuf_before_2013, before_2013, interval = \"prediction\")\n",
    "mseTest_Manuf_before2013 = mean((before_2013$`Manuf-RF` - pred_Manuf_before2013)^2); cat(\"The MSE for manufacturing industry model before 2013 is\", mseTest_Manuf_before2013,\"\\n\")\n",
    "\n",
    "pred_Manuf_after2013 = predict(Manuf_after_2013, after_2013, interval = \"prediction\")\n",
    "mseTest_Manuf_after2013 = mean((after_2013$`Manuf-RF` - pred_Manuf_after2013)^2); cat(\"The MSE for manufacturing industry model after 2013 is\", mseTest_Manuf_after2013,\"\\n\")\n",
    "\n",
    "\n"
   ]
  },
  {
   "cell_type": "markdown",
   "metadata": {},
   "source": [
    "Conclusion on how well the three factor model performs before and after 2013\n",
    "\n",
    "The utility industry model trained on pre 2013 data has a lower R-Squared than the utility industry model trained on post 2013 data meaning the model better explains returns in the utility industry after Fama and French had received the Nobel prize for their work. Additionally, the mean squared error for the model that was trained and tested on pre 2013 data is higher than for the model that was trained and tested on post 2013 data. This means there is less prediction error after 2013, suggesting the 3 factor model is more accurate for predicting utility industry returns have Fama and French recieved their nobel prize. The hitech industry model also sees an increase in R-Squared going from pre to post 2013, however, mean squared error rises so it is not conclusive as to whether or not the 3 factor model is better at making predictions in the hitech industry after the Nobel prize. This could potentially be a result of predictors being needed to predict the often more volatile returns in the hitech industry. The manufacturing industry model actually gets worse after 2013 as it sees a decrease in R-Squared and an increase in mean squared error. My thesis here is that in the years after the Nobel prize was awarded to Fama and French, many other models with more predictors were developed and so returns are most likely more accurately described by these such models. It may also be a coincidence that the returns in the manufacturing industry led to such results."
   ]
  }
 ],
 "metadata": {
  "kernelspec": {
   "display_name": "R",
   "language": "R",
   "name": "ir"
  },
  "language_info": {
   "codemirror_mode": "r",
   "file_extension": ".r",
   "mimetype": "text/x-r-source",
   "name": "R",
   "pygments_lexer": "r",
   "version": "3.5.1"
  }
 },
 "nbformat": 4,
 "nbformat_minor": 2
}
